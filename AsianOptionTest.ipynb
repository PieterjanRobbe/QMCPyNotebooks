{
 "cells": [
  {
   "cell_type": "code",
   "execution_count": 1,
   "metadata": {},
   "outputs": [],
   "source": [
    "import matplotlib.pyplot as plt\n",
    "import numpy as np\n",
    "import qmcpy as qp # This is using the updated code in the PR"
   ]
  },
  {
   "cell_type": "code",
   "execution_count": 2,
   "metadata": {},
   "outputs": [],
   "source": [
    "seed = 7"
   ]
  },
  {
   "cell_type": "code",
   "execution_count": 3,
   "metadata": {},
   "outputs": [],
   "source": [
    "def eval_option(option_mc, option_qmc, abs_tol):\n",
    "    stopping_criteria = {\n",
    "        \"MLMC old\" : qp.CubMCML(option_mc, abs_tol=abs_tol, levels_max=15),\n",
    "        \"MLMC new\" : qp.CubMCMLCont(option_mc, abs_tol=abs_tol, levels_max=15),\n",
    "        \"MLQMC old\" : qp.CubQMCML(option_qmc, abs_tol=abs_tol, levels_max=15),\n",
    "        \"MLQMC new\" : qp.CubQMCMLCont(option_qmc, abs_tol=abs_tol, levels_max=15)\n",
    "    }\n",
    "    \n",
    "    levels = []\n",
    "    times = []\n",
    "    for name, stopper in stopping_criteria.items():\n",
    "        sol, data = stopper.integrate()\n",
    "        levels.append(data.levels)\n",
    "        times.append(data.time_integrate)\n",
    "        print(\"\\t%-15s solution %-10.4f number of levels %-6d time %.3f\"%(name, sol, levels[-1], times[-1]))\n",
    "        \n",
    "    return levels, times"
   ]
  },
  {
   "cell_type": "code",
   "execution_count": 4,
   "metadata": {},
   "outputs": [
    {
     "name": "stdout",
     "output_type": "stream",
     "text": [
      "European Option true value: 10.45058\n",
      "\tMLMC old        solution 10.4491    number of levels 10     time 41.662\n",
      "\tMLMC new        solution 10.4449    number of levels 8      time 20.234\n",
      "\tMLQMC old       solution 10.4487    number of levels 9      time 2.357\n",
      "\tMLQMC new       solution 10.4470    number of levels 8      time 1.451\n"
     ]
    }
   ],
   "source": [
    "# European option: giving accurate approximations\n",
    "option_mc = qp.MLCallOptions(qp.IIDStdGaussian(seed=seed), option=\"european\")\n",
    "option_qmc = qp.MLCallOptions(qp.Sobol(seed=seed), option=\"european\")\n",
    "print(\"European Option true value: %.5f\"%option_qmc.get_exact_value())\n",
    "eval_option(option_mc, option_qmc, abs_tol=5e-3);"
   ]
  },
  {
   "cell_type": "code",
   "execution_count": 5,
   "metadata": {},
   "outputs": [
    {
     "name": "stdout",
     "output_type": "stream",
     "text": [
      "Asian Option true value (level 0): 5.63593 (to within 1e-5)\n",
      "Asian Option true value (level 1): 5.73170 (to within 1e-5)\n",
      "Asian Option true value (level 2): 5.75527 (to within 1e-5)\n",
      "Asian Option true value (level 3): 5.76113 (to within 1e-5)\n",
      "Asian Option true value (level 4): 5.76260 (to within 1e-5)\n"
     ]
    }
   ],
   "source": [
    "for level in range(5):\n",
    "    aco = qp.AsianOption(qp.Sobol(2*2**level, seed=seed), volatility=.2, start_price=100, strike_price=100, interest_rate=.05)\n",
    "    approx_solution, data = qp.CubQMCSobolG(aco, abs_tol=1e-5).integrate()\n",
    "    print(\"Asian Option true value (level %d): %.5f (to within 1e-5)\"%(level, approx_solution))"
   ]
  },
  {
   "cell_type": "code",
   "execution_count": 6,
   "metadata": {},
   "outputs": [
    {
     "name": "stdout",
     "output_type": "stream",
     "text": [
      "\tMLMC old        solution 5.7645     number of levels 10     time 11.370\n",
      "\tMLMC new        solution 5.7571     number of levels 7      time 10.234\n",
      "\tMLQMC old       solution 5.7611     number of levels 8      time 2.642\n",
      "\tMLQMC new       solution 5.7596     number of levels 7      time 1.491\n"
     ]
    }
   ],
   "source": [
    "# Asian option: also giving accurate approximations?\n",
    "option_mc = qp.MLCallOptions(qp.IIDStdGaussian(seed=seed), option=\"asian\")\n",
    "option_qmc = qp.MLCallOptions(qp.Sobol(seed=seed), option=\"asian\")\n",
    "eval_option(option_mc, option_qmc, abs_tol=5e-3);"
   ]
  },
  {
   "cell_type": "code",
   "execution_count": 7,
   "metadata": {},
   "outputs": [
    {
     "name": "stdout",
     "output_type": "stream",
     "text": [
      "tolerance = 5.0000e-01, repetition = 1/10\n",
      "\tMLMC old        solution 5.7770     number of levels 3      time 0.008\n",
      "\tMLMC new        solution 5.7395     number of levels 3      time 0.012\n",
      "\tMLQMC old       solution 5.7060     number of levels 3      time 0.091\n",
      "\tMLQMC new       solution 5.7031     number of levels 3      time 0.096\n",
      "tolerance = 5.0000e-01, repetition = 2/10\n",
      "\tMLMC old        solution 5.7753     number of levels 3      time 0.005\n",
      "\tMLMC new        solution 5.7803     number of levels 3      time 0.011\n",
      "\tMLQMC old       solution 5.7040     number of levels 3      time 0.085\n",
      "\tMLQMC new       solution 5.7062     number of levels 3      time 0.094\n",
      "tolerance = 5.0000e-01, repetition = 3/10\n",
      "\tMLMC old        solution 5.7277     number of levels 3      time 0.005\n",
      "\tMLMC new        solution 5.6515     number of levels 3      time 0.011\n",
      "\tMLQMC old       solution 5.7036     number of levels 3      time 0.074\n",
      "\tMLQMC new       solution 5.7036     number of levels 3      time 0.067\n",
      "tolerance = 5.0000e-01, repetition = 4/10\n",
      "\tMLMC old        solution 5.6815     number of levels 4      time 0.004\n",
      "\tMLMC new        solution 5.8084     number of levels 3      time 0.008\n",
      "\tMLQMC old       solution 5.7096     number of levels 3      time 0.081\n",
      "\tMLQMC new       solution 5.7120     number of levels 3      time 0.088\n",
      "tolerance = 5.0000e-01, repetition = 5/10\n",
      "\tMLMC old        solution 5.6709     number of levels 3      time 0.004\n",
      "\tMLMC new        solution 5.5371     number of levels 3      time 0.008\n",
      "\tMLQMC old       solution 5.7101     number of levels 3      time 0.074\n",
      "\tMLQMC new       solution 5.7134     number of levels 3      time 0.092\n",
      "tolerance = 5.0000e-01, repetition = 6/10\n",
      "\tMLMC old        solution 5.6332     number of levels 3      time 0.004\n",
      "\tMLMC new        solution 5.7700     number of levels 3      time 0.010\n",
      "\tMLQMC old       solution 5.7047     number of levels 3      time 0.076\n",
      "\tMLQMC new       solution 5.7078     number of levels 3      time 0.085\n",
      "tolerance = 5.0000e-01, repetition = 7/10\n",
      "\tMLMC old        solution 5.6733     number of levels 3      time 0.005\n",
      "\tMLMC new        solution 5.6281     number of levels 4      time 0.012\n",
      "\tMLQMC old       solution 5.7065     number of levels 3      time 0.090\n",
      "\tMLQMC new       solution 5.7083     number of levels 3      time 0.102\n",
      "tolerance = 5.0000e-01, repetition = 8/10\n",
      "\tMLMC old        solution 5.7287     number of levels 3      time 0.004\n",
      "\tMLMC new        solution 5.9760     number of levels 4      time 0.014\n",
      "\tMLQMC old       solution 5.6980     number of levels 3      time 0.089\n",
      "\tMLQMC new       solution 5.7040     number of levels 3      time 0.087\n",
      "tolerance = 5.0000e-01, repetition = 9/10\n",
      "\tMLMC old        solution 5.3621     number of levels 3      time 0.004\n",
      "\tMLMC new        solution 5.8276     number of levels 3      time 0.011\n",
      "\tMLQMC old       solution 5.6997     number of levels 3      time 0.099\n",
      "\tMLQMC new       solution 5.7075     number of levels 3      time 0.096\n",
      "tolerance = 5.0000e-01, repetition = 10/10\n",
      "\tMLMC old        solution 5.7665     number of levels 4      time 0.006\n",
      "\tMLMC new        solution 5.9160     number of levels 3      time 0.008\n",
      "\tMLQMC old       solution 5.7047     number of levels 3      time 0.068\n",
      "\tMLQMC new       solution 5.7027     number of levels 3      time 0.082\n",
      "tolerance = 1.5811e-01, repetition = 1/10\n",
      "\tMLMC old        solution 5.7224     number of levels 6      time 0.025\n",
      "\tMLMC new        solution 5.6982     number of levels 4      time 0.029\n",
      "\tMLQMC old       solution 5.7336     number of levels 4      time 0.113\n",
      "\tMLQMC new       solution 5.7039     number of levels 3      time 0.082\n",
      "tolerance = 1.5811e-01, repetition = 2/10\n",
      "\tMLMC old        solution 5.7749     number of levels 5      time 0.015\n",
      "\tMLMC new        solution 5.7190     number of levels 4      time 0.027\n",
      "\tMLQMC old       solution 5.7349     number of levels 4      time 0.235\n",
      "\tMLQMC new       solution 5.6944     number of levels 3      time 0.077\n",
      "tolerance = 1.5811e-01, repetition = 3/10\n",
      "\tMLMC old        solution 5.6889     number of levels 5      time 0.019\n",
      "\tMLMC new        solution 5.6859     number of levels 3      time 0.016\n",
      "\tMLQMC old       solution 5.7295     number of levels 4      time 0.139\n",
      "\tMLQMC new       solution 5.7051     number of levels 3      time 0.076\n",
      "tolerance = 1.5811e-01, repetition = 4/10\n",
      "\tMLMC old        solution 5.6431     number of levels 4      time 0.016\n",
      "\tMLMC new        solution 5.7035     number of levels 3      time 0.014\n",
      "\tMLQMC old       solution 5.7330     number of levels 4      time 0.133\n",
      "\tMLQMC new       solution 5.7180     number of levels 3      time 0.074\n",
      "tolerance = 1.5811e-01, repetition = 5/10\n",
      "\tMLMC old        solution 5.6933     number of levels 5      time 0.020\n",
      "\tMLMC new        solution 5.7042     number of levels 4      time 0.024\n",
      "\tMLQMC old       solution 5.7317     number of levels 4      time 0.123\n",
      "\tMLQMC new       solution 5.6993     number of levels 3      time 0.080\n",
      "tolerance = 1.5811e-01, repetition = 6/10\n",
      "\tMLMC old        solution 5.7136     number of levels 5      time 0.016\n",
      "\tMLMC new        solution 5.7788     number of levels 3      time 0.013\n",
      "\tMLQMC old       solution 5.7308     number of levels 4      time 0.128\n",
      "\tMLQMC new       solution 5.7081     number of levels 3      time 0.090\n",
      "tolerance = 1.5811e-01, repetition = 7/10\n",
      "\tMLMC old        solution 5.7389     number of levels 6      time 0.022\n",
      "\tMLMC new        solution 5.7658     number of levels 4      time 0.018\n",
      "\tMLQMC old       solution 5.7385     number of levels 4      time 0.142\n",
      "\tMLQMC new       solution 5.7036     number of levels 3      time 0.070\n",
      "tolerance = 1.5811e-01, repetition = 8/10\n",
      "\tMLMC old        solution 5.7699     number of levels 6      time 0.017\n",
      "\tMLMC new        solution 5.7838     number of levels 4      time 0.022\n",
      "\tMLQMC old       solution 5.7309     number of levels 4      time 0.119\n",
      "\tMLQMC new       solution 5.7089     number of levels 3      time 0.073\n",
      "tolerance = 1.5811e-01, repetition = 9/10\n",
      "\tMLMC old        solution 5.7850     number of levels 6      time 0.021\n",
      "\tMLMC new        solution 5.7032     number of levels 4      time 0.020\n",
      "\tMLQMC old       solution 5.7316     number of levels 4      time 0.121\n",
      "\tMLQMC new       solution 5.7066     number of levels 3      time 0.076\n",
      "tolerance = 1.5811e-01, repetition = 10/10\n",
      "\tMLMC old        solution 5.7971     number of levels 6      time 0.025\n",
      "\tMLMC new        solution 5.6661     number of levels 3      time 0.013\n",
      "\tMLQMC old       solution 5.7372     number of levels 4      time 0.122\n",
      "\tMLQMC new       solution 5.7041     number of levels 3      time 0.066\n",
      "tolerance = 5.0000e-02, repetition = 1/10\n",
      "\tMLMC old        solution 5.7689     number of levels 7      time 0.112\n",
      "\tMLMC new        solution 5.7188     number of levels 4      time 0.099\n",
      "\tMLQMC old       solution 5.7497     number of levels 5      time 0.226\n",
      "\tMLQMC new       solution 5.7322     number of levels 4      time 0.131\n",
      "tolerance = 5.0000e-02, repetition = 2/10\n",
      "\tMLMC old        solution 5.7649     number of levels 7      time 0.133\n",
      "\tMLMC new        solution 5.7560     number of levels 5      time 0.110\n",
      "\tMLQMC old       solution 5.7445     number of levels 5      time 0.230\n",
      "\tMLQMC new       solution 5.7316     number of levels 4      time 0.155\n",
      "tolerance = 5.0000e-02, repetition = 3/10\n",
      "\tMLMC old        solution 5.7690     number of levels 7      time 0.132\n",
      "\tMLMC new        solution 5.7342     number of levels 5      time 0.081\n",
      "\tMLQMC old       solution 5.7463     number of levels 5      time 0.258\n",
      "\tMLQMC new       solution 5.7305     number of levels 4      time 0.161\n",
      "tolerance = 5.0000e-02, repetition = 4/10\n",
      "\tMLMC old        solution 5.7688     number of levels 7      time 0.138\n",
      "\tMLMC new        solution 5.7673     number of levels 5      time 0.076\n",
      "\tMLQMC old       solution 5.7463     number of levels 5      time 0.278\n",
      "\tMLQMC new       solution 5.7294     number of levels 4      time 0.146\n",
      "tolerance = 5.0000e-02, repetition = 5/10\n",
      "\tMLMC old        solution 5.7339     number of levels 7      time 0.140\n",
      "\tMLMC new        solution 5.7045     number of levels 4      time 0.110\n",
      "\tMLQMC old       solution 5.7474     number of levels 5      time 0.251\n",
      "\tMLQMC new       solution 5.7329     number of levels 4      time 0.160\n",
      "tolerance = 5.0000e-02, repetition = 6/10\n"
     ]
    },
    {
     "name": "stdout",
     "output_type": "stream",
     "text": [
      "\tMLMC old        solution 5.7755     number of levels 7      time 0.148\n",
      "\tMLMC new        solution 5.7393     number of levels 5      time 0.110\n",
      "\tMLQMC old       solution 5.7451     number of levels 5      time 0.256\n",
      "\tMLQMC new       solution 5.7335     number of levels 4      time 0.146\n",
      "tolerance = 5.0000e-02, repetition = 7/10\n",
      "\tMLMC old        solution 5.7532     number of levels 7      time 0.133\n",
      "\tMLMC new        solution 5.7461     number of levels 5      time 0.119\n",
      "\tMLQMC old       solution 5.7496     number of levels 5      time 0.242\n",
      "\tMLQMC new       solution 5.7327     number of levels 4      time 0.153\n",
      "tolerance = 5.0000e-02, repetition = 8/10\n",
      "\tMLMC old        solution 5.7594     number of levels 7      time 0.137\n",
      "\tMLMC new        solution 5.7380     number of levels 4      time 0.059\n",
      "\tMLQMC old       solution 5.7486     number of levels 5      time 0.256\n",
      "\tMLQMC new       solution 5.7346     number of levels 4      time 0.160\n",
      "tolerance = 5.0000e-02, repetition = 9/10\n",
      "\tMLMC old        solution 5.7724     number of levels 7      time 0.133\n",
      "\tMLMC new        solution 5.7558     number of levels 5      time 0.120\n",
      "\tMLQMC old       solution 5.7460     number of levels 5      time 0.270\n",
      "\tMLQMC new       solution 5.7234     number of levels 4      time 0.150\n",
      "tolerance = 5.0000e-02, repetition = 10/10\n",
      "\tMLMC old        solution 5.7698     number of levels 7      time 0.138\n",
      "\tMLMC new        solution 5.7461     number of levels 4      time 0.084\n",
      "\tMLQMC old       solution 5.7454     number of levels 5      time 0.279\n",
      "\tMLQMC new       solution 5.7308     number of levels 4      time 0.149\n",
      "tolerance = 1.5811e-02, repetition = 1/10\n",
      "\tMLMC old        solution 5.7654     number of levels 8      time 1.074\n",
      "\tMLMC new        solution 5.7534     number of levels 6      time 1.021\n",
      "\tMLQMC old       solution 5.7558     number of levels 6      time 0.639\n",
      "\tMLQMC new       solution 5.7479     number of levels 5      time 0.378\n",
      "tolerance = 1.5811e-02, repetition = 2/10\n",
      "\tMLMC old        solution 5.7632     number of levels 8      time 1.052\n",
      "\tMLMC new        solution 5.7559     number of levels 6      time 0.941\n",
      "\tMLQMC old       solution 5.7596     number of levels 7      time 0.843\n",
      "\tMLQMC new       solution 5.7467     number of levels 5      time 0.387\n",
      "tolerance = 1.5811e-02, repetition = 3/10\n",
      "\tMLMC old        solution 5.7581     number of levels 8      time 1.064\n",
      "\tMLMC new        solution 5.7620     number of levels 6      time 1.012\n",
      "\tMLQMC old       solution 5.7584     number of levels 7      time 0.819\n",
      "\tMLQMC new       solution 5.7539     number of levels 6      time 0.466\n",
      "tolerance = 1.5811e-02, repetition = 4/10\n",
      "\tMLMC old        solution 5.7570     number of levels 8      time 1.015\n",
      "\tMLMC new        solution 5.7478     number of levels 5      time 0.916\n",
      "\tMLQMC old       solution 5.7553     number of levels 6      time 0.550\n",
      "\tMLQMC new       solution 5.7467     number of levels 5      time 0.340\n",
      "tolerance = 1.5811e-02, repetition = 5/10\n",
      "\tMLMC old        solution 5.7632     number of levels 8      time 0.996\n",
      "\tMLMC new        solution 5.7516     number of levels 5      time 0.976\n",
      "\tMLQMC old       solution 5.7603     number of levels 7      time 0.868\n",
      "\tMLQMC new       solution 5.7561     number of levels 6      time 0.461\n",
      "tolerance = 1.5811e-02, repetition = 6/10\n",
      "\tMLMC old        solution 5.7606     number of levels 8      time 1.137\n",
      "\tMLMC new        solution 5.7544     number of levels 6      time 0.520\n",
      "\tMLQMC old       solution 5.7549     number of levels 6      time 0.631\n",
      "\tMLQMC new       solution 5.7556     number of levels 6      time 0.504\n",
      "tolerance = 1.5811e-02, repetition = 7/10\n",
      "\tMLMC old        solution 5.7591     number of levels 8      time 1.003\n",
      "\tMLMC new        solution 5.7547     number of levels 6      time 1.012\n",
      "\tMLQMC old       solution 5.7590     number of levels 7      time 0.817\n",
      "\tMLQMC new       solution 5.7466     number of levels 5      time 0.334\n",
      "tolerance = 1.5811e-02, repetition = 8/10\n",
      "\tMLMC old        solution 5.7556     number of levels 8      time 1.051\n",
      "\tMLMC new        solution 5.7574     number of levels 6      time 0.957\n",
      "\tMLQMC old       solution 5.7561     number of levels 6      time 0.622\n",
      "\tMLQMC new       solution 5.7468     number of levels 5      time 0.401\n",
      "tolerance = 1.5811e-02, repetition = 9/10\n",
      "\tMLMC old        solution 5.7688     number of levels 8      time 1.063\n",
      "\tMLMC new        solution 5.7534     number of levels 6      time 0.949\n",
      "\tMLQMC old       solution 5.7590     number of levels 7      time 0.956\n",
      "\tMLQMC new       solution 5.7550     number of levels 6      time 0.500\n",
      "tolerance = 1.5811e-02, repetition = 10/10\n",
      "\tMLMC old        solution 5.7586     number of levels 8      time 1.030\n",
      "\tMLMC new        solution 5.7507     number of levels 5      time 0.949\n",
      "\tMLQMC old       solution 5.7592     number of levels 7      time 0.815\n",
      "\tMLQMC new       solution 5.7538     number of levels 6      time 0.481\n",
      "tolerance = 5.0000e-03, repetition = 1/10\n",
      "\tMLMC old        solution 5.7632     number of levels 10     time 14.442\n",
      "\tMLMC new        solution 5.7584     number of levels 7      time 10.241\n",
      "\tMLQMC old       solution 5.7613     number of levels 8      time 2.413\n",
      "\tMLQMC new       solution 5.7591     number of levels 7      time 1.331\n",
      "tolerance = 5.0000e-03, repetition = 2/10\n",
      "\tMLMC old        solution 5.7624     number of levels 10     time 16.021\n",
      "\tMLMC new        solution 5.7584     number of levels 7      time 9.737\n",
      "\tMLQMC old       solution 5.7612     number of levels 8      time 2.524\n",
      "\tMLQMC new       solution 5.7590     number of levels 7      time 1.401\n",
      "tolerance = 5.0000e-03, repetition = 3/10\n",
      "\tMLMC old        solution 5.7629     number of levels 10     time 10.754\n",
      "\tMLMC new        solution 5.7596     number of levels 7      time 9.793\n",
      "\tMLQMC old       solution 5.7606     number of levels 8      time 2.216\n",
      "\tMLQMC new       solution 5.7592     number of levels 7      time 1.312\n",
      "tolerance = 5.0000e-03, repetition = 4/10\n",
      "\tMLMC old        solution 5.7615     number of levels 10     time 12.463\n",
      "\tMLMC new        solution 5.7592     number of levels 7      time 9.809\n",
      "\tMLQMC old       solution 5.7606     number of levels 8      time 2.759\n",
      "\tMLQMC new       solution 5.7593     number of levels 7      time 1.851\n",
      "tolerance = 5.0000e-03, repetition = 5/10\n",
      "\tMLMC old        solution 5.7640     number of levels 10     time 11.553\n",
      "\tMLMC new        solution 5.7618     number of levels 7      time 10.026\n",
      "\tMLQMC old       solution 5.7610     number of levels 8      time 2.805\n",
      "\tMLQMC new       solution 5.7591     number of levels 7      time 1.388\n",
      "tolerance = 5.0000e-03, repetition = 6/10\n",
      "\tMLMC old        solution 5.7619     number of levels 10     time 11.751\n",
      "\tMLMC new        solution 5.7614     number of levels 7      time 10.139\n",
      "\tMLQMC old       solution 5.7611     number of levels 8      time 2.812\n",
      "\tMLQMC new       solution 5.7597     number of levels 7      time 1.524\n",
      "tolerance = 5.0000e-03, repetition = 7/10\n",
      "\tMLMC old        solution 5.7602     number of levels 10     time 11.688\n",
      "\tMLMC new        solution 5.7587     number of levels 7      time 10.732\n",
      "\tMLQMC old       solution 5.7614     number of levels 8      time 2.470\n",
      "\tMLQMC new       solution 5.7587     number of levels 7      time 1.517\n",
      "tolerance = 5.0000e-03, repetition = 8/10\n",
      "\tMLMC old        solution 5.7598     number of levels 10     time 11.480\n",
      "\tMLMC new        solution 5.7600     number of levels 7      time 10.097\n",
      "\tMLQMC old       solution 5.7608     number of levels 8      time 2.904\n",
      "\tMLQMC new       solution 5.7590     number of levels 7      time 1.459\n",
      "tolerance = 5.0000e-03, repetition = 9/10\n",
      "\tMLMC old        solution 5.7647     number of levels 10     time 11.848\n",
      "\tMLMC new        solution 5.7572     number of levels 7      time 10.018\n",
      "\tMLQMC old       solution 5.7611     number of levels 8      time 2.398\n",
      "\tMLQMC new       solution 5.7596     number of levels 7      time 1.502\n",
      "tolerance = 5.0000e-03, repetition = 10/10\n",
      "\tMLMC old        solution 5.7638     number of levels 10     time 13.907\n",
      "\tMLMC new        solution 5.7581     number of levels 7      time 10.187\n",
      "\tMLQMC old       solution 5.7606     number of levels 8      time 2.581\n",
      "\tMLQMC new       solution 5.7589     number of levels 7      time 1.693\n"
     ]
    }
   ],
   "source": [
    "repetitions = 10\n",
    "tolerances = 5*np.logspace(-1, -3, num=5)\n",
    "\n",
    "levels = {}\n",
    "times = {}\n",
    "for t in range(len(tolerances)):\n",
    "    for r in range(repetitions):\n",
    "        print(\"tolerance = %10.4e, repetition = %d/%d\"%(tolerances[t], r + 1, repetitions))\n",
    "        levels[t, r], times[t, r] = eval_option(option_mc, option_qmc, tolerances[t])"
   ]
  },
  {
   "cell_type": "code",
   "execution_count": 8,
   "metadata": {},
   "outputs": [],
   "source": [
    "avg_time = {}\n",
    "for method in range(4):\n",
    "    avg_time[method] = [np.mean([times[t, r][method] for r in range(repetitions)]) for t in range(len(tolerances))]"
   ]
  },
  {
   "cell_type": "code",
   "execution_count": 9,
   "metadata": {},
   "outputs": [
    {
     "data": {
      "text/plain": [
       "<matplotlib.legend.Legend at 0x7fdb5d816f98>"
      ]
     },
     "execution_count": 9,
     "metadata": {},
     "output_type": "execute_result"
    },
    {
     "data": {
      "image/png": "[encoded data removed]",
      "text/plain": [
       "<Figure size 720x504 with 1 Axes>"
      ]
     },
     "metadata": {
      "needs_background": "light"
     },
     "output_type": "display_data"
    }
   ],
   "source": [
    "plt.figure(figsize=(10,7))\n",
    "plt.plot(tolerances, avg_time[0], label=\"MLMC old\")\n",
    "plt.plot(tolerances, avg_time[1], label=\"MLMC new\")\n",
    "plt.plot(tolerances, avg_time[2], label=\"MLQMC old\")\n",
    "plt.plot(tolerances, avg_time[3], label=\"MLQMC new\")\n",
    "plt.xscale(\"log\")\n",
    "plt.yscale(\"log\")\n",
    "plt.xlabel(\"requested absolute tolerance\")\n",
    "plt.ylabel(\"average run time in seconds\")\n",
    "plt.legend()"
   ]
  },
  {
   "cell_type": "code",
   "execution_count": 10,
   "metadata": {},
   "outputs": [],
   "source": [
    "max_levels = {}\n",
    "for method in range(4):\n",
    "    levels_rep = np.array([levels[len(tolerances)-1, r][method] for r in range(repetitions)])\n",
    "    max_levels[method] = [np.count_nonzero(levels_rep == level)/repetitions for level in range(15)]"
   ]
  },
  {
   "cell_type": "code",
   "execution_count": 11,
   "metadata": {},
   "outputs": [
    {
     "data": {
      "text/plain": [
       "<matplotlib.legend.Legend at 0x7fdb5e030c18>"
      ]
     },
     "execution_count": 11,
     "metadata": {},
     "output_type": "execute_result"
    },
    {
     "data": {
      "image/png": "[encoded data removed]",
      "text/plain": [
       "<Figure size 1008x720 with 4 Axes>"
      ]
     },
     "metadata": {
      "needs_background": "light"
     },
     "output_type": "display_data"
    }
   ],
   "source": [
    "plt.figure(figsize=(14,10))\n",
    "plt.subplot(2,2,1); plt.bar(range(15), max_levels[0], label=\"MLMC old\", color=\"C0\"); plt.xlabel(\"max level\"); plt.ylabel(\"fraction of runs\"); plt.ylim(0, 1); plt.legend()\n",
    "plt.subplot(2,2,2); plt.bar(range(15), max_levels[1], label=\"MLMC new\", color=\"C1\"); plt.xlabel(\"max level\"); plt.ylabel(\"fraction of runs\"); plt.ylim(0, 1); plt.legend()\n",
    "plt.subplot(2,2,3); plt.bar(range(15), max_levels[2], label=\"MLQMC old\", color=\"C2\"); plt.xlabel(\"max level\"); plt.ylabel(\"fraction of runs\"); plt.ylim(0, 1); plt.legend()\n",
    "plt.subplot(2,2,4); plt.bar(range(15), max_levels[3], label=\"MLQMC new\", color=\"C3\"); plt.xlabel(\"max level\"); plt.ylabel(\"fraction of runs\"); plt.ylim(0, 1); plt.legend()"
   ]
  }
 ],
 "metadata": {
  "kernelspec": {
   "display_name": "Python 3",
   "language": "python",
   "name": "python3"
  },
  "language_info": {
   "codemirror_mode": {
    "name": "ipython",
    "version": 3
   },
   "file_extension": ".py",
   "mimetype": "text/x-python",
   "name": "python",
   "nbconvert_exporter": "python",
   "pygments_lexer": "ipython3",
   "version": "3.7.0"
  }
 },
 "nbformat": 4,
 "nbformat_minor": 4
}
